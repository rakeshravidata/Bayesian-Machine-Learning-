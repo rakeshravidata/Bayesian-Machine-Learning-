{
 "cells": [
  {
   "cell_type": "code",
   "execution_count": 169,
   "metadata": {},
   "outputs": [],
   "source": [
    "import numpy as np\n",
    "import pandas as pd\n",
    "import sklearn.mixture as mx \n",
    "import seaborn as sns\n",
    "import matplotlib.pyplot as plt\n",
    "import matplotlib as mpl\n",
    "from scipy import stats, linalg"
   ]
  },
  {
   "cell_type": "code",
   "execution_count": 170,
   "metadata": {},
   "outputs": [],
   "source": [
    "# Num samples\n",
    "M = 100\n",
    "\n",
    "# SNR value\n",
    "SNR = 6\n",
    "\n",
    "# positions of the non-zero basis\n",
    "K = [11, 64] \n",
    "\n",
    "# generate sample Xn\n",
    "x = np.linspace(-10, 10, M)"
   ]
  },
  {
   "cell_type": "code",
   "execution_count": 171,
   "metadata": {},
   "outputs": [],
   "source": [
    "\n",
    "phi = []"
   ]
  },
  {
   "cell_type": "code",
   "execution_count": 172,
   "metadata": {},
   "outputs": [],
   "source": [
    "for i, xn in enumerate(x):\n",
    "    phi.append(np.exp(-5*((x - xn)**2)))\n",
    "    \n",
    "phi = np.array(phi)"
   ]
  },
  {
   "cell_type": "code",
   "execution_count": 173,
   "metadata": {},
   "outputs": [],
   "source": [
    "phi_cov = np.matmul(phi.T, phi)"
   ]
  },
  {
   "cell_type": "code",
   "execution_count": 174,
   "metadata": {},
   "outputs": [],
   "source": [
    "y0 = np.array(phi)[:, K[0]] + np.array(phi)[:, K[1]]"
   ]
  },
  {
   "cell_type": "code",
   "execution_count": 175,
   "metadata": {},
   "outputs": [],
   "source": [
    "# add noise\n",
    "s_y = np.matmul(y0.T, y0) / M\n",
    "s_n = s_y / 10**(SNR/10)\n",
    "n = np.sqrt(s_n) * np.random.randn(M, 1).T"
   ]
  },
  {
   "cell_type": "code",
   "execution_count": 176,
   "metadata": {},
   "outputs": [],
   "source": [
    "y = y0 + n"
   ]
  },
  {
   "cell_type": "code",
   "execution_count": 177,
   "metadata": {},
   "outputs": [],
   "source": [
    "y = y.T"
   ]
  },
  {
   "cell_type": "code",
   "execution_count": 186,
   "metadata": {},
   "outputs": [
    {
     "name": "stderr",
     "output_type": "stream",
     "text": [
      "/home/aman/anaconda3/lib/python3.6/site-packages/ipykernel_launcher.py:2: FutureWarning: `rcond` parameter will change to the default of machine precision times ``max(M, N)`` where M and N are the input matrix dimensions.\n",
      "To use the future default and silence this warning we advise to pass `rcond=None`, to keep using the old, explicitly pass `rcond=-1`.\n",
      "  \n"
     ]
    }
   ],
   "source": [
    "# LS Method\n",
    "w_LS = np.linalg.lstsq(phi_cov, np.matmul(phi.T, y))[0]\n",
    "y_LS = np.matmul(phi, w_LS)"
   ]
  },
  {
   "cell_type": "code",
   "execution_count": 147,
   "metadata": {},
   "outputs": [],
   "source": [
    "# EM algorithm\n",
    "# initialization\n",
    "EMiter = 100\n",
    "beta = 1e0\n",
    "alpha_EM = 1\n",
    "Sigma_EM = np.eye(M)\n",
    "\n",
    "for i in range(1, EMiter):\n",
    "    Sigma_EM = np.linalg.inv((beta * phi_cov) + alpha_EM * np.eye(M))\n",
    "    mu_EM = np.matmul(beta*Sigma_EM, np.matmul(phi.T, y))\n",
    "    \n",
    "    alpha_EM = np.divide(M, (np.matmul(mu_EM.T, mu_EM) + np.trace(Sigma_EM)))\n",
    "    \n",
    "    beta = np.divide(M, (np.linalg.norm(y - np.matmul(phi, mu_EM))**2 + np.trace(np.matmul(Sigma_EM, phi_cov))))\n",
    "\n",
    "# EM estimates\n",
    "y_EM = np.matmul(phi, mu_EM)"
   ]
  },
  {
   "cell_type": "code",
   "execution_count": 148,
   "metadata": {},
   "outputs": [],
   "source": [
    "# Variational Bayes algorithm\n",
    "# initialization\n",
    "VBiter = 200\n",
    "beta = 1e2\n",
    "alpha_VB = 3e5 * np.ones((M, 1))\n",
    "hyp_j = 0\n",
    "mu_VB = np.zeros((M,1))\n",
    "for i in range(1, VBiter):\n",
    "\n",
    "    Sigma_VB = np.linalg.inv(beta * (phi_cov) + np.diag(alpha_VB))   \n",
    "    mu_VB = np.matmul(np.matmul((beta * Sigma_VB), phi.T), y)\n",
    "    \n",
    "    alpha_VB = (hyp_j + .5) / (hyp_j + .5 * (np.square(mu_VB) + np.diag(Sigma_VB)));\n",
    "    \n",
    "    temp_norm = np.linalg.norm(y - np.matmul(phi, mu_VB))\n",
    "    \n",
    "    beta = (hyp_j + .5 * M) / (hyp_j + .5 * (temp_norm**2 + np.trace( np.matmul(Sigma_VB, phi_cov))))\n",
    "\n",
    "# variational Bayes estimates\n",
    "y_VB = np.matmul(phi, mu_VB) "
   ]
  },
  {
   "cell_type": "code",
   "execution_count": 2,
   "metadata": {},
   "outputs": [
    {
     "ename": "NameError",
     "evalue": "name 'x' is not defined",
     "output_type": "error",
     "traceback": [
      "\u001b[0;31m---------------------------------------------------------------------------\u001b[0m",
      "\u001b[0;31mNameError\u001b[0m                                 Traceback (most recent call last)",
      "\u001b[0;32m<ipython-input-2-c99038515781>\u001b[0m in \u001b[0;36m<module>\u001b[0;34m\u001b[0m\n\u001b[1;32m      4\u001b[0m \u001b[0;34m\u001b[0m\u001b[0m\n\u001b[1;32m      5\u001b[0m \u001b[0mplt\u001b[0m\u001b[0;34m.\u001b[0m\u001b[0mfigure\u001b[0m\u001b[0;34m(\u001b[0m\u001b[0mfigsize\u001b[0m\u001b[0;34m=\u001b[0m\u001b[0;34m(\u001b[0m\u001b[0;36m15\u001b[0m\u001b[0;34m,\u001b[0m \u001b[0;36m10\u001b[0m\u001b[0;34m)\u001b[0m\u001b[0;34m)\u001b[0m\u001b[0;34m\u001b[0m\u001b[0;34m\u001b[0m\u001b[0m\n\u001b[0;32m----> 6\u001b[0;31m \u001b[0mplt\u001b[0m\u001b[0;34m.\u001b[0m\u001b[0mplot\u001b[0m\u001b[0;34m(\u001b[0m\u001b[0mx\u001b[0m\u001b[0;34m,\u001b[0m \u001b[0my_EM\u001b[0m\u001b[0;34m,\u001b[0m \u001b[0;34m'r'\u001b[0m\u001b[0;34m,\u001b[0m \u001b[0mlabel\u001b[0m\u001b[0;34m=\u001b[0m\u001b[0;34m'EM'\u001b[0m\u001b[0;34m)\u001b[0m\u001b[0;31m# plotting t, a separately\u001b[0m\u001b[0;34m\u001b[0m\u001b[0;34m\u001b[0m\u001b[0m\n\u001b[0m\u001b[1;32m      7\u001b[0m \u001b[0mplt\u001b[0m\u001b[0;34m.\u001b[0m\u001b[0mplot\u001b[0m\u001b[0;34m(\u001b[0m\u001b[0mx\u001b[0m\u001b[0;34m,\u001b[0m \u001b[0my_VB\u001b[0m\u001b[0;34m,\u001b[0m \u001b[0;34m'b'\u001b[0m\u001b[0;34m,\u001b[0m \u001b[0mlabel\u001b[0m\u001b[0;34m=\u001b[0m\u001b[0;34m'VB'\u001b[0m\u001b[0;34m)\u001b[0m\u001b[0;34m\u001b[0m\u001b[0;34m\u001b[0m\u001b[0m\n\u001b[1;32m      8\u001b[0m \u001b[0mplt\u001b[0m\u001b[0;34m.\u001b[0m\u001b[0mplot\u001b[0m\u001b[0;34m(\u001b[0m\u001b[0mx\u001b[0m\u001b[0;34m,\u001b[0m \u001b[0my_LS\u001b[0m\u001b[0;34m,\u001b[0m \u001b[0;34m'y'\u001b[0m\u001b[0;34m,\u001b[0m \u001b[0mlabel\u001b[0m\u001b[0;34m=\u001b[0m\u001b[0;34m'LSR'\u001b[0m\u001b[0;34m)\u001b[0m\u001b[0;34m\u001b[0m\u001b[0;34m\u001b[0m\u001b[0m\n",
      "\u001b[0;31mNameError\u001b[0m: name 'x' is not defined"
     ]
    },
    {
     "data": {
      "text/plain": [
       "<Figure size 1080x720 with 0 Axes>"
      ]
     },
     "metadata": {},
     "output_type": "display_data"
    }
   ],
   "source": [
    "from numpy import *\n",
    "import math\n",
    "import matplotlib.pyplot as plt\n",
    "\n",
    "plt.figure(figsize=(15, 10))\n",
    "plt.plot(x, y_EM, 'r', label='EM # plotting t, a separately \n",
    "plt.plot(x, y_VB, 'b', label='Variational Bayes')\n",
    "plt.plot(x, y_LS, 'y', label='Least Squares Regression')\n",
    "plt.plot(x, y, 'g', label='Original Data')# plotting t, b separately \n",
    "\n",
    "plt.legend()\n",
    "plt.show()"
   ]
  },
  {
   "cell_type": "code",
   "execution_count": 164,
   "metadata": {},
   "outputs": [],
   "source": [
    "from sklearn.linear_model import LinearRegression\n",
    "\n",
    "reg = LinearRegression().fit(x.reshape(M, 1), y)"
   ]
  },
  {
   "cell_type": "code",
   "execution_count": 167,
   "metadata": {},
   "outputs": [],
   "source": [
    "y_LS = reg.predict(x.reshape(M, 1))"
   ]
  },
  {
   "cell_type": "code",
   "execution_count": 136,
   "metadata": {},
   "outputs": [
    {
     "data": {
      "text/plain": [
       "array([[-10.        ,  -9.7979798 ,  -9.5959596 ,  -9.39393939,\n",
       "         -9.19191919,  -8.98989899,  -8.78787879,  -8.58585859,\n",
       "         -8.38383838,  -8.18181818,  -7.97979798,  -7.77777778,\n",
       "         -7.57575758,  -7.37373737,  -7.17171717,  -6.96969697,\n",
       "         -6.76767677,  -6.56565657,  -6.36363636,  -6.16161616,\n",
       "         -5.95959596,  -5.75757576,  -5.55555556,  -5.35353535,\n",
       "         -5.15151515,  -4.94949495,  -4.74747475,  -4.54545455,\n",
       "         -4.34343434,  -4.14141414,  -3.93939394,  -3.73737374,\n",
       "         -3.53535354,  -3.33333333,  -3.13131313,  -2.92929293,\n",
       "         -2.72727273,  -2.52525253,  -2.32323232,  -2.12121212,\n",
       "         -1.91919192,  -1.71717172,  -1.51515152,  -1.31313131,\n",
       "         -1.11111111,  -0.90909091,  -0.70707071,  -0.50505051,\n",
       "         -0.3030303 ,  -0.1010101 ,   0.1010101 ,   0.3030303 ,\n",
       "          0.50505051,   0.70707071,   0.90909091,   1.11111111,\n",
       "          1.31313131,   1.51515152,   1.71717172,   1.91919192,\n",
       "          2.12121212,   2.32323232,   2.52525253,   2.72727273,\n",
       "          2.92929293,   3.13131313,   3.33333333,   3.53535354,\n",
       "          3.73737374,   3.93939394,   4.14141414,   4.34343434,\n",
       "          4.54545455,   4.74747475,   4.94949495,   5.15151515,\n",
       "          5.35353535,   5.55555556,   5.75757576,   5.95959596,\n",
       "          6.16161616,   6.36363636,   6.56565657,   6.76767677,\n",
       "          6.96969697,   7.17171717,   7.37373737,   7.57575758,\n",
       "          7.77777778,   7.97979798,   8.18181818,   8.38383838,\n",
       "          8.58585859,   8.78787879,   8.98989899,   9.19191919,\n",
       "          9.39393939,   9.5959596 ,   9.7979798 ,  10.        ]])"
      ]
     },
     "execution_count": 136,
     "metadata": {},
     "output_type": "execute_result"
    }
   ],
   "source": [
    "x"
   ]
  },
  {
   "cell_type": "code",
   "execution_count": 137,
   "metadata": {},
   "outputs": [
    {
     "data": {
      "text/plain": [
       "array([[-10.        ,  -9.7979798 ,  -9.5959596 ,  -9.39393939,\n",
       "         -9.19191919,  -8.98989899,  -8.78787879,  -8.58585859,\n",
       "         -8.38383838,  -8.18181818,  -7.97979798,  -7.77777778,\n",
       "         -7.57575758,  -7.37373737,  -7.17171717,  -6.96969697,\n",
       "         -6.76767677,  -6.56565657,  -6.36363636,  -6.16161616,\n",
       "         -5.95959596,  -5.75757576,  -5.55555556,  -5.35353535,\n",
       "         -5.15151515,  -4.94949495,  -4.74747475,  -4.54545455,\n",
       "         -4.34343434,  -4.14141414,  -3.93939394,  -3.73737374,\n",
       "         -3.53535354,  -3.33333333,  -3.13131313,  -2.92929293,\n",
       "         -2.72727273,  -2.52525253,  -2.32323232,  -2.12121212,\n",
       "         -1.91919192,  -1.71717172,  -1.51515152,  -1.31313131,\n",
       "         -1.11111111,  -0.90909091,  -0.70707071,  -0.50505051,\n",
       "         -0.3030303 ,  -0.1010101 ,   0.1010101 ,   0.3030303 ,\n",
       "          0.50505051,   0.70707071,   0.90909091,   1.11111111,\n",
       "          1.31313131,   1.51515152,   1.71717172,   1.91919192,\n",
       "          2.12121212,   2.32323232,   2.52525253,   2.72727273,\n",
       "          2.92929293,   3.13131313,   3.33333333,   3.53535354,\n",
       "          3.73737374,   3.93939394,   4.14141414,   4.34343434,\n",
       "          4.54545455,   4.74747475,   4.94949495,   5.15151515,\n",
       "          5.35353535,   5.55555556,   5.75757576,   5.95959596,\n",
       "          6.16161616,   6.36363636,   6.56565657,   6.76767677,\n",
       "          6.96969697,   7.17171717,   7.37373737,   7.57575758,\n",
       "          7.77777778,   7.97979798,   8.18181818,   8.38383838,\n",
       "          8.58585859,   8.78787879,   8.98989899,   9.19191919,\n",
       "          9.39393939,   9.5959596 ,   9.7979798 ,  10.        ]])"
      ]
     },
     "execution_count": 137,
     "metadata": {},
     "output_type": "execute_result"
    }
   ],
   "source": [
    "x"
   ]
  },
  {
   "cell_type": "code",
   "execution_count": null,
   "metadata": {},
   "outputs": [],
   "source": []
  }
 ],
 "metadata": {
  "kernelspec": {
   "display_name": "Python 3",
   "language": "python",
   "name": "python3"
  },
  "language_info": {
   "codemirror_mode": {
    "name": "ipython",
    "version": 3
   },
   "file_extension": ".py",
   "mimetype": "text/x-python",
   "name": "python",
   "nbconvert_exporter": "python",
   "pygments_lexer": "ipython3",
   "version": "3.6.8"
  }
 },
 "nbformat": 4,
 "nbformat_minor": 2
}
